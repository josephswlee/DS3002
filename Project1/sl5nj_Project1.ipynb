{
 "cells": [
  {
   "cell_type": "markdown",
   "id": "392e7a4e-1ca3-423f-911e-ec7ed0a377cb",
   "metadata": {},
   "source": [
    "# DS 3002 Data Project 1\n",
    "\n",
    "##### Joseph Lee (sl5nj)"
   ]
  },
  {
   "cell_type": "markdown",
   "id": "b3c856cf-51a9-4295-8541-35a7b43e4b3d",
   "metadata": {},
   "source": [
    "### ETL data processor \n",
    "\n",
    "Due on March 21th at 11:59 PM\n",
    "\n",
    "1.\tDeliverable: Author a segment of an ETL pipeline that will ingest or process raw data. You must also submit a URL to a GitHub repository for your solution. In python you’ll need to know how to open files, iterate files, pattern match and output files.\n",
    "2.\tBenchmarks: \n",
    "i.\tYour data processor should be able to ingest a pre-defined data source and perform at least three of these operations: \n",
    "1.\tFetch / download / retrieve a remote data file by URL, or ingest a local file mounted. Suggestions for remote data sources are listed at the end of this document. \n",
    "2.\tConvert the general format and data structure of the data source (from JSON to CSV, from CSV to JSON, from JSON into a SQL database table, etc. I want the option to convert any source to any target. So, if I get a CSV as an input, I want the user to choose an output)\n",
    "a)\tEXTRA – Use an API (like twitter) to pull information realtime.\n",
    "3.\tModify the number of columns from the source to the destination, reducing or adding columns. \n",
    "4.\tThe converted (new) file should be written to disk (local file) or written to a SQL database. \n",
    "5.\tGenerate a brief summary of the data file ingestion including: \n",
    "a)\tNumber of records \n",
    "b)\tNumber of columns \n",
    "ii.\tThe processor should produce informative errors should it be unable to complete an operation. (Try / Catch with error messages)\n",
    "3.\tGrading: \n",
    "i.\to Successful build of the solution (I recommend Python…but you can use whatever you like. I just need to be able to run it)\n",
    "ii.\to    Functionality that meets all benchmarks – 10 points \n",
    "iii.\to Creativity / Innovation / Quality – 2 points \n",
    "iv.\to Documentation – Describes how to use the data processor and the elements that make it operational – 3 points "
   ]
  },
  {
   "cell_type": "markdown",
   "id": "33131a3b-7214-473e-aa1a-51d9a981dc4d",
   "metadata": {},
   "source": [
    "#### Import packages Needed"
   ]
  },
  {
   "cell_type": "code",
   "execution_count": 1,
   "id": "189ce4e6-cd40-4bb0-bca3-64f3b45ebab5",
   "metadata": {},
   "outputs": [],
   "source": [
    "import os\n",
    "import numpy\n",
    "import csv, json\n",
    "import pandas as pd\n",
    "import sqlite3\n",
    "from sqlite3 import Error"
   ]
  },
  {
   "cell_type": "markdown",
   "id": "815ed0c1-c4fd-4074-8df5-3eb393bfe6ff",
   "metadata": {},
   "source": [
    "#### Load csv "
   ]
  },
  {
   "cell_type": "code",
   "execution_count": 2,
   "id": "d8f094f5-c9d3-4b56-95ae-d36dbac5a53f",
   "metadata": {},
   "outputs": [],
   "source": [
    "# Data collected from Kaggle\n",
    "# # https://www.kaggle.com/padhmam/qs-world-university-rankings-2017-2022\n",
    "univ = pd.read_csv(\"university_ranking.csv\")"
   ]
  },
  {
   "cell_type": "code",
   "execution_count": 3,
   "id": "ba4dcfd5-3ff9-40e6-ad6e-f271c574e253",
   "metadata": {},
   "outputs": [
    {
     "data": {
      "text/html": [
       "<div>\n",
       "<style scoped>\n",
       "    .dataframe tbody tr th:only-of-type {\n",
       "        vertical-align: middle;\n",
       "    }\n",
       "\n",
       "    .dataframe tbody tr th {\n",
       "        vertical-align: top;\n",
       "    }\n",
       "\n",
       "    .dataframe thead th {\n",
       "        text-align: right;\n",
       "    }\n",
       "</style>\n",
       "<table border=\"1\" class=\"dataframe\">\n",
       "  <thead>\n",
       "    <tr style=\"text-align: right;\">\n",
       "      <th></th>\n",
       "      <th>university</th>\n",
       "      <th>year</th>\n",
       "      <th>rank_display</th>\n",
       "      <th>score</th>\n",
       "      <th>country</th>\n",
       "      <th>city</th>\n",
       "      <th>region</th>\n",
       "      <th>type</th>\n",
       "      <th>research_output</th>\n",
       "      <th>student_faculty_ratio</th>\n",
       "      <th>international_students</th>\n",
       "      <th>size</th>\n",
       "      <th>faculty_count</th>\n",
       "    </tr>\n",
       "  </thead>\n",
       "  <tbody>\n",
       "    <tr>\n",
       "      <th>0</th>\n",
       "      <td>Massachusetts Institute of Technology (MIT)</td>\n",
       "      <td>2017</td>\n",
       "      <td>1</td>\n",
       "      <td>100.0</td>\n",
       "      <td>United States</td>\n",
       "      <td>Cambridge</td>\n",
       "      <td>North America</td>\n",
       "      <td>Private</td>\n",
       "      <td>Very High</td>\n",
       "      <td>4.0</td>\n",
       "      <td>3,730</td>\n",
       "      <td>M</td>\n",
       "      <td>3,065</td>\n",
       "    </tr>\n",
       "    <tr>\n",
       "      <th>1</th>\n",
       "      <td>Stanford University</td>\n",
       "      <td>2017</td>\n",
       "      <td>2</td>\n",
       "      <td>98.7</td>\n",
       "      <td>United States</td>\n",
       "      <td>Stanford</td>\n",
       "      <td>North America</td>\n",
       "      <td>Private</td>\n",
       "      <td>Very High</td>\n",
       "      <td>3.0</td>\n",
       "      <td>3,879</td>\n",
       "      <td>L</td>\n",
       "      <td>4,725</td>\n",
       "    </tr>\n",
       "    <tr>\n",
       "      <th>2</th>\n",
       "      <td>Harvard University</td>\n",
       "      <td>2017</td>\n",
       "      <td>3</td>\n",
       "      <td>98.3</td>\n",
       "      <td>United States</td>\n",
       "      <td>Cambridge</td>\n",
       "      <td>North America</td>\n",
       "      <td>Private</td>\n",
       "      <td>Very High</td>\n",
       "      <td>5.0</td>\n",
       "      <td>5,877</td>\n",
       "      <td>L</td>\n",
       "      <td>4,646</td>\n",
       "    </tr>\n",
       "    <tr>\n",
       "      <th>3</th>\n",
       "      <td>University of Cambridge</td>\n",
       "      <td>2017</td>\n",
       "      <td>4</td>\n",
       "      <td>97.2</td>\n",
       "      <td>United Kingdom</td>\n",
       "      <td>Cambridge</td>\n",
       "      <td>Europe</td>\n",
       "      <td>Public</td>\n",
       "      <td>Very high</td>\n",
       "      <td>4.0</td>\n",
       "      <td>7,925</td>\n",
       "      <td>L</td>\n",
       "      <td>5,800</td>\n",
       "    </tr>\n",
       "    <tr>\n",
       "      <th>4</th>\n",
       "      <td>California Institute of Technology (Caltech)</td>\n",
       "      <td>2017</td>\n",
       "      <td>5</td>\n",
       "      <td>96.9</td>\n",
       "      <td>United States</td>\n",
       "      <td>Pasadena</td>\n",
       "      <td>North America</td>\n",
       "      <td>Private</td>\n",
       "      <td>Very High</td>\n",
       "      <td>2.0</td>\n",
       "      <td>692</td>\n",
       "      <td>S</td>\n",
       "      <td>968</td>\n",
       "    </tr>\n",
       "  </tbody>\n",
       "</table>\n",
       "</div>"
      ],
      "text/plain": [
       "                                     university  year rank_display  score  \\\n",
       "0  Massachusetts Institute of Technology (MIT)   2017            1  100.0   \n",
       "1                           Stanford University  2017            2   98.7   \n",
       "2                            Harvard University  2017            3   98.3   \n",
       "3                       University of Cambridge  2017            4   97.2   \n",
       "4  California Institute of Technology (Caltech)  2017            5   96.9   \n",
       "\n",
       "          country       city         region     type research_output  \\\n",
       "0   United States  Cambridge  North America  Private       Very High   \n",
       "1   United States   Stanford  North America  Private       Very High   \n",
       "2   United States  Cambridge  North America  Private       Very High   \n",
       "3  United Kingdom  Cambridge         Europe   Public       Very high   \n",
       "4   United States   Pasadena  North America  Private       Very High   \n",
       "\n",
       "   student_faculty_ratio international_students size faculty_count  \n",
       "0                    4.0                  3,730    M         3,065  \n",
       "1                    3.0                  3,879    L         4,725  \n",
       "2                    5.0                  5,877    L         4,646  \n",
       "3                    4.0                  7,925    L         5,800  \n",
       "4                    2.0                    692    S           968  "
      ]
     },
     "execution_count": 3,
     "metadata": {},
     "output_type": "execute_result"
    }
   ],
   "source": [
    "univ.head()"
   ]
  },
  {
   "cell_type": "markdown",
   "id": "1fcb08aa-85cc-4fac-b9c9-d6ea0da65bb4",
   "metadata": {},
   "source": [
    "#### Function to Create Database"
   ]
  },
  {
   "cell_type": "code",
   "execution_count": 4,
   "id": "cd9b7fad-74c5-48bf-bf1f-103e0788a8f0",
   "metadata": {},
   "outputs": [],
   "source": [
    "def create_connection(db):\n",
    "    \"\"\" \n",
    "    Purpose: Create a Database with given File Path and Name\n",
    "             The function also counts for an error when it creates a database\n",
    "             \n",
    "    Input: \n",
    "        db   String File Path with Name of Db with .db extension\n",
    "    \n",
    "    Output: None, it creates .db file into the given path\n",
    "    \"\"\"\n",
    "    conn = None\n",
    "    try:\n",
    "        conn = sqlite3.connect(db)\n",
    "        print(\"Database Successfully Created\")\n",
    "    except Error as e:\n",
    "        print(e)\n",
    "    finally:\n",
    "        if conn:\n",
    "            conn.close()"
   ]
  },
  {
   "cell_type": "markdown",
   "id": "d5417b33-8987-4824-a806-db44613114b6",
   "metadata": {},
   "source": [
    "#### Create Database"
   ]
  },
  {
   "cell_type": "code",
   "execution_count": 5,
   "id": "fd7e41df-a4b8-4458-8c0b-416ec7846c26",
   "metadata": {},
   "outputs": [
    {
     "name": "stdout",
     "output_type": "stream",
     "text": [
      "Database Successfully Created\n"
     ]
    }
   ],
   "source": [
    "create_connection(r\"univ.db\")"
   ]
  },
  {
   "cell_type": "markdown",
   "id": "825626e4-a542-4c18-aceb-6b42fd4a52fc",
   "metadata": {},
   "source": [
    "#### Create tables into Database"
   ]
  },
  {
   "cell_type": "code",
   "execution_count": 6,
   "id": "0b00b872-9537-45e2-a71d-79da3ce48609",
   "metadata": {},
   "outputs": [
    {
     "name": "stdout",
     "output_type": "stream",
     "text": [
      "Table Successfully Created\n"
     ]
    }
   ],
   "source": [
    "\"\"\"\n",
    "This cell block creates a table into the database created\n",
    "The query is first stored into a string called \"create_tables_into_univ_db\"\n",
    "Then it tries to execute and commit into the univ.db\n",
    "Upon successfull attempt, it prints message\n",
    "It also accounts for errors \n",
    "\"\"\"\n",
    "\n",
    "create_tables_into_univ_db = '''CREATE TABLE if not exists university (\n",
    "                                id int PRIMARY KEY,\n",
    "                                university longtext,\n",
    "                                year int not null,\n",
    "                                rank_display int not null,\n",
    "                                score decimal(19,4),\n",
    "                                country varchar(60) not null,\n",
    "                                city varchar(60), \n",
    "                                region varchar(60),\n",
    "                                type varchar(60),\n",
    "                                research_output varchar(30),\n",
    "                                student_faculty_ratio int,\n",
    "                                international_students int,\n",
    "                                size varchar(5),\n",
    "                                faculty_count int); '''\n",
    "\n",
    "conn = sqlite3.connect(\"univ.db\")\n",
    "cur = conn.cursor()\n",
    "cur.execute(create_tables_into_univ_db)\n",
    "try:\n",
    "    conn.commit()\n",
    "    print(\"Table Successfully Created\")\n",
    "\n",
    "except sqlite3.Error as error:\n",
    "    print(\"Error while creating table\", error)\n"
   ]
  },
  {
   "cell_type": "markdown",
   "id": "f580d9b8-1169-4952-9e74-2e54442af571",
   "metadata": {},
   "source": [
    "#### Function to convert CSV to JSON"
   ]
  },
  {
   "cell_type": "code",
   "execution_count": 7,
   "id": "269c110b-9fb4-4d48-b081-6f47b492b94c",
   "metadata": {},
   "outputs": [],
   "source": [
    "def csv_to_json(csvFilePath, jsonFilePath):\n",
    "    \"\"\"\n",
    "    Purpose: Converting CSV file into JSON file\n",
    "    \n",
    "    Inputs: \n",
    "        csvFilePath   String\n",
    "        jsonFilePath  String\n",
    "        \n",
    "    Output: Creates converted JSON file to the given json file path \n",
    "    \"\"\"\n",
    "    jsonArray = []\n",
    "      \n",
    "    #read csv file\n",
    "    with open(csvFilePath, encoding='utf-8') as csvfile: \n",
    "        #load csv file using the dictionary reader from the csv library\n",
    "        csvfile = csv.DictReader(csvfile) \n",
    "\n",
    "        #convert each csv rows into dictionary\n",
    "        for rows in csvfile: \n",
    "            #add the dictionary to json array\n",
    "            jsonArray.append(rows)\n",
    "  \n",
    "    #convert python jsonArray to JSON String and write to file\n",
    "    with open(jsonFilePath, 'w', encoding='utf-8') as jsonfile: \n",
    "        jsonstring = json.dumps(jsonArray, indent=4)\n",
    "        jsonfile.write(jsonstring)"
   ]
  },
  {
   "cell_type": "code",
   "execution_count": 9,
   "id": "9e64dab8-6af8-48df-bc7e-78df513f3bdc",
   "metadata": {},
   "outputs": [],
   "source": [
    "csvFilePath = r'university_ranking.csv'\n",
    "jsonFilePath = r'university_ranking.json'\n",
    " \n",
    "# Call the make_json function\n",
    "csv_to_json(csvFilePath, jsonFilePath)"
   ]
  },
  {
   "cell_type": "markdown",
   "id": "b08e7f0e-fc5a-46d9-97ac-1d4c0189dcc1",
   "metadata": {},
   "source": [
    "#### Function to convert JSON to CSV"
   ]
  },
  {
   "cell_type": "code",
   "execution_count": 20,
   "id": "face3116-de91-4f93-abcd-a7f104d79009",
   "metadata": {},
   "outputs": [],
   "source": [
    "def json_to_csv(jsonFilePath, csvFileName):\n",
    "    \"\"\"\n",
    "    Purpose: This function is to convert JSON file to CSV\n",
    "    \n",
    "    Inputs: \n",
    "        jsonFilePath        String\n",
    "        csvFileName         String\n",
    "        \n",
    "    Output:\n",
    "        None, this will create a csv file to the working directory\n",
    "    \"\"\"\n",
    "    with open(jsonFilePath, encoding='utf-8') as inputfile:\n",
    "        df = pd.read_json(inputfile)\n",
    "\n",
    "    df.to_csv(csvFileName, encoding='utf-8', index=False)\n"
   ]
  },
  {
   "cell_type": "code",
   "execution_count": 21,
   "id": "ff9e27ec-aa37-4ca6-bb95-de0c37400903",
   "metadata": {},
   "outputs": [],
   "source": [
    "jsonFilePath = r'university_ranking.json'\n",
    "csvFileName = r'converted_from_JSON.csv'\n",
    "json_to_csv(jsonFilePath, csvFileName)"
   ]
  },
  {
   "cell_type": "markdown",
   "id": "26f2f24f-44eb-4695-9f50-7e7792c747e1",
   "metadata": {},
   "source": [
    "#### Function to load JSON and insert into SQL"
   ]
  },
  {
   "cell_type": "code",
   "execution_count": 10,
   "id": "f81843af-3c31-400e-a0f7-d621767eafcc",
   "metadata": {},
   "outputs": [
    {
     "name": "stdout",
     "output_type": "stream",
     "text": [
      "Successfully loaded JSON file\n"
     ]
    }
   ],
   "source": [
    "db_path = \"univ.db\"\n",
    "wd =os.getcwd()\n",
    "json_file_path = '%s/%s' % (wd, 'university_ranking.json')\n",
    "\n",
    "try:\n",
    "    with open(json_file_path, encoding=\"utf8\") as data:\n",
    "        json_file=json.load(data)\n",
    "    print(\"Successfully loaded JSON file\")\n",
    "except IOError as e:\n",
    "    print (e)\n",
    "    print(\"Error: can not open the file\")"
   ]
  },
  {
   "cell_type": "code",
   "execution_count": 11,
   "id": "6dae76b5-bbbf-49fd-bc88-e3dc1cc39480",
   "metadata": {},
   "outputs": [],
   "source": [
    "def json_to_sql(json_file, db_path):\n",
    "    \"\"\"\n",
    "    Purpose: Convert JSON file to Pandas Dataframe then insert file \n",
    "             into the database\n",
    "        \n",
    "    Inputs:\n",
    "        json_file   list\n",
    "        db_path     String\n",
    "        \n",
    "    Output: Print message of either the successful insertion or an error \n",
    "    \"\"\"\n",
    "    conn = sqlite3.connect(db_path)\n",
    "    \n",
    "    df = pd.DataFrame(json_file)\n",
    "    cur = conn.cursor()\n",
    "    try:\n",
    "        df.to_sql(\"university\", conn, if_exists= \"replace\", index = False)\n",
    "        print(\"Successfully Inserted File into SQLite Table\")\n",
    "    except:\n",
    "        print(\"Failed to Insert File into SQLite Table\")\n",
    "    cur.close()\n",
    "    "
   ]
  },
  {
   "cell_type": "code",
   "execution_count": 12,
   "id": "9d35dc28-3ed4-4293-986a-14426779f0ff",
   "metadata": {},
   "outputs": [
    {
     "name": "stdout",
     "output_type": "stream",
     "text": [
      "Successfully Inserted File into SQLite Table\n"
     ]
    }
   ],
   "source": [
    "json_to_sql(json_file, db_path)"
   ]
  },
  {
   "cell_type": "markdown",
   "id": "c4a18296-df69-43bd-9e71-f4527a672067",
   "metadata": {},
   "source": [
    "#### Test to See if Database is Created Correctly"
   ]
  },
  {
   "cell_type": "code",
   "execution_count": 13,
   "id": "112a5033-5ad5-4338-ac38-b469f77d6c66",
   "metadata": {},
   "outputs": [
    {
     "name": "stdout",
     "output_type": "stream",
     "text": [
      "Number of records(rows) are:  6482\n",
      "Number of columns are:  13\n",
      "The SQLite connection is closed\n"
     ]
    }
   ],
   "source": [
    "def testSqliteTable():\n",
    "    \"\"\"\n",
    "    Purpose: Test if the database, table, and data are created correctly\n",
    "             It connects to the database from the given path and select \n",
    "             all from the university table then it prints the length of the\n",
    "             records\n",
    "             The second query gets table_info of the table and prints length\n",
    "             of the columns\n",
    "             This function also accounts for errors\n",
    "             Upon successful queries, it closes connection and print message\n",
    "    \n",
    "    Input: None\n",
    "    \n",
    "    Output: Number of records(rows) in the table : 6482\n",
    "            Number of columns in the table : 13\n",
    "            Optional:\n",
    "                Commented out parts print all 6482 records from the table\n",
    "    \"\"\"\n",
    "    try:\n",
    "        conn = sqlite3.connect('univ.db')\n",
    "        cur = conn.cursor()\n",
    "\n",
    "        query = \"\"\"SELECT * from university\"\"\"\n",
    "        cur.execute(query)\n",
    "        records = cur.fetchall()\n",
    "        print(\"Number of records(rows) are: \", len(records))\n",
    "        #print(\"Printing each row\")\n",
    "        #for row in records:\n",
    "        #    print(\"university: \", row[0])\n",
    "        #    print(\"year: \", row[1])\n",
    "        #    print(\"rank: \", row[2])\n",
    "        #    print(\"score: \", row[3])\n",
    "        #    print(\"country: \", row[4])\n",
    "        #    print(\"city: \", row[5])\n",
    "        #    print(\"region: \", row[6])\n",
    "        #    print(\"type: \", row[7])\n",
    "        #    print(\"research_output: \", row[8])\n",
    "        #    print(\"student_faculty_ratio: \", row[9])\n",
    "        #    print(\"international_students: \", row[10])\n",
    "        #    print(\"size: \", row[11])\n",
    "        #    print(\"faculty_count: \", row[12])\n",
    "        #    print(\"\\n\")\n",
    "        cur.execute(\"PRAGMA table_info(university)\")\n",
    "        col = cur.fetchall()\n",
    "        print(\"Number of columns are: \",len(col))\n",
    "        cur.close()\n",
    "\n",
    "    except sqlite3.Error as error:\n",
    "        print(\"Failed to read data from sqlite table\", error)\n",
    "    finally:\n",
    "        if conn:\n",
    "            conn.close()\n",
    "            print(\"The SQLite connection is closed\")\n",
    "\n",
    "testSqliteTable()\n"
   ]
  },
  {
   "cell_type": "markdown",
   "id": "375c847b-34c1-497b-8cd3-0cf29e968c0a",
   "metadata": {},
   "source": [
    "#### Updating the Table"
   ]
  },
  {
   "cell_type": "code",
   "execution_count": 14,
   "id": "e8041e45-040d-45b9-9921-9ea5547f1123",
   "metadata": {},
   "outputs": [],
   "source": [
    "def update_table(db_path, query):\n",
    "    \"\"\"\n",
    "    Purpose: This function is to update the table with query \n",
    "             You pass in the database file path and a string query to do operations\n",
    "             \n",
    "    Inputs: \n",
    "        db_path     String\n",
    "        query       String\n",
    "        \n",
    "    Output: None\n",
    "            Message will be printed either the attempt succeeded or failed\n",
    "    \"\"\"\n",
    "    try:\n",
    "        conn = sqlite3.connect(db_path)\n",
    "        cur = conn.cursor()\n",
    "        print(\"Connected to the Database\")\n",
    "\n",
    "        cur.execute(query)\n",
    "        conn.commit()\n",
    "        print(\"Record updated successfully \")\n",
    "        cur.close()\n",
    "\n",
    "    except sqlite3.Error as error:\n",
    "        print(\"Failed to update sqlite table\", error)\n",
    "    finally:\n",
    "        if conn:\n",
    "            conn.close()\n",
    "            print(\"The connection is closed\")"
   ]
  },
  {
   "cell_type": "code",
   "execution_count": 15,
   "id": "31743880-6a9a-42a3-903f-f3fa6b4424fb",
   "metadata": {},
   "outputs": [
    {
     "name": "stdout",
     "output_type": "stream",
     "text": [
      "Connected to the Database\n",
      "Record updated successfully \n",
      "The connection is closed\n"
     ]
    }
   ],
   "source": [
    "db_path = \"univ.db\"\n",
    "drop_query = \"\"\"\n",
    "        alter table university drop column faculty_count\n",
    "        \"\"\"\n",
    "update_table(db_path, drop_query)"
   ]
  },
  {
   "cell_type": "markdown",
   "id": "9fe0732f-5cff-41bc-9ab7-14910b0aabe0",
   "metadata": {},
   "source": [
    "#### Inspecting the Database After Updating Number of Columns"
   ]
  },
  {
   "cell_type": "code",
   "execution_count": 16,
   "id": "0154c9da-3ef5-482b-b716-d5ddaa32a4e1",
   "metadata": {},
   "outputs": [
    {
     "name": "stdout",
     "output_type": "stream",
     "text": [
      "Number of records(rows) are:  6482\n",
      "Number of columns are:  12\n",
      "The SQLite connection is closed\n"
     ]
    }
   ],
   "source": [
    "def finalTestTable():\n",
    "    \"\"\"\n",
    "    Purpose: Test if the database, table, and data are created correctly\n",
    "             It connects to the database from the given path and select \n",
    "             all from the university table then it prints the length of the\n",
    "             records\n",
    "             The second query gets table_info of the table and prints length\n",
    "             of the columns\n",
    "             This function also accounts for errors\n",
    "             Upon successful queries, it closes connection and print message\n",
    "    \n",
    "    Input: None\n",
    "    \n",
    "    Output: Number of records(rows) in the table : 6482\n",
    "            Number of columns in the table : 12\n",
    "            Optional:\n",
    "                Commented out parts print all 6482 records from the table\n",
    "    \"\"\"\n",
    "    try:\n",
    "        conn = sqlite3.connect('univ.db')\n",
    "        cur = conn.cursor()\n",
    "\n",
    "        query = \"\"\"SELECT * from university\"\"\"\n",
    "        cur.execute(query)\n",
    "        records = cur.fetchall()\n",
    "        print(\"Number of records(rows) are: \", len(records))\n",
    "        \n",
    "        cur.execute(\"PRAGMA table_info(university)\")\n",
    "        col = cur.fetchall()\n",
    "        print(\"Number of columns are: \",len(col))\n",
    "        cur.close()\n",
    "\n",
    "    except sqlite3.Error as error:\n",
    "        print(\"Failed to read data from sqlite table\", error)\n",
    "    finally:\n",
    "        if conn:\n",
    "            conn.close()\n",
    "            print(\"The SQLite connection is closed\")\n",
    "\n",
    "finalTestTable()\n"
   ]
  },
  {
   "cell_type": "code",
   "execution_count": null,
   "id": "5d17052b-c115-4704-99b2-eaf2f39833a5",
   "metadata": {},
   "outputs": [],
   "source": []
  }
 ],
 "metadata": {
  "kernelspec": {
   "display_name": "Python 3 (ipykernel)",
   "language": "python",
   "name": "python3"
  },
  "language_info": {
   "codemirror_mode": {
    "name": "ipython",
    "version": 3
   },
   "file_extension": ".py",
   "mimetype": "text/x-python",
   "name": "python",
   "nbconvert_exporter": "python",
   "pygments_lexer": "ipython3",
   "version": "3.8.5"
  }
 },
 "nbformat": 4,
 "nbformat_minor": 5
}
